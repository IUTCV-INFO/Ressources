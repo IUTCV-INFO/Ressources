{
  "metadata": {
    "orig_nbformat": 4,
    "kernelspec": {
      "name": "python3",
      "display_name": "Python 3 (ipykernel)",
      "language": "python"
    },
    "language_info": {
      "name": "python",
      "version": "3.7.10",
      "mimetype": "text/x-python",
      "codemirror_mode": {
        "name": "ipython",
        "version": 3
      },
      "pygments_lexer": "ipython3",
      "nbconvert_exporter": "python",
      "file_extension": ".py"
    },
    "colab": {
      "name": "1 _ L'affichage.ipynb",
      "provenance": []
    }
  },
  "nbformat_minor": 0,
  "nbformat": 4,
  "cells": [
    {
      "cell_type": "markdown",
      "source": [
        "# Affichage et formatage des résultats"
      ],
      "metadata": {
        "id": "kAKaCdgGyl1g"
      }
    },
    {
      "cell_type": "markdown",
      "source": [
        "## Affichage direct"
      ],
      "metadata": {
        "id": "0chYmzDuyl1l"
      }
    },
    {
      "cell_type": "code",
      "source": [
        "# un texte\n",
        "print(\"Voici un message.\")"
      ],
      "metadata": {
        "id": "uHHSCePOyl1m",
        "outputId": "f65fb521-bccf-4579-8c7c-cb66ec404789"
      },
      "execution_count": null,
      "outputs": [
        {
          "name": "stdout",
          "output_type": "stream",
          "text": "Voici un message.\n"
        }
      ]
    },
    {
      "cell_type": "code",
      "source": [
        "#la valeur d'une variable\n",
        "a = 7\n",
        "print(a)\n",
        "print(\"a =\", a)"
      ],
      "metadata": {
        "trusted": true,
        "id": "77Pg2ra2yl1o",
        "outputId": "44460b65-f9f0-443c-9d85-78745670cc23"
      },
      "execution_count": null,
      "outputs": [
        {
          "name": "stdout",
          "text": "7\na = 7\n",
          "output_type": "stream"
        }
      ]
    },
    {
      "cell_type": "markdown",
      "source": [
        "## Affichage avec les f-strings (conseillé)\n",
        "Cette affichage est beaucoup plus naturel. Ne pas oublier le f devant les guillements !!!!!"
      ],
      "metadata": {
        "id": "4JXNMRQiyl1p"
      }
    },
    {
      "cell_type": "code",
      "source": [
        "a = 3\n",
        "b = 5\n",
        "print(f\"La somme de {a} et {b} vaut {a+b}.\")"
      ],
      "metadata": {
        "trusted": true,
        "id": "K17pbPJZyl1p",
        "outputId": "a9ed6c21-513c-4d8f-a24b-109f1290bd23"
      },
      "execution_count": null,
      "outputs": [
        {
          "name": "stdout",
          "text": "La somme de 3 et 5 vaut 8.\n",
          "output_type": "stream"
        }
      ]
    },
    {
      "cell_type": "markdown",
      "source": [
        "## Formatage des entiers"
      ],
      "metadata": {
        "id": "djomwZrnyl1q"
      }
    },
    {
      "cell_type": "code",
      "source": [
        "a = 14\n",
        "print(f\"a = {a}\")    # pas d'instruction de formatage\n",
        "print(f\"a = {a:4d}\") # au moins 4 caractères, si besoin des blancs\n",
        "print(f\"a = {a:04d}\") # au moins 4 caractères si besoin des 0"
      ],
      "metadata": {
        "id": "Ox9wFEGlyl1r",
        "outputId": "9550059f-a8d5-4fb1-d14f-504e2b3c127b"
      },
      "execution_count": null,
      "outputs": [
        {
          "name": "stdout",
          "output_type": "stream",
          "text": "a = 14\na =   14\na = 0014\n"
        }
      ]
    },
    {
      "cell_type": "markdown",
      "source": [
        "## Formatage des flottants"
      ],
      "metadata": {
        "id": "hiIEH5CDyl1s"
      }
    },
    {
      "cell_type": "code",
      "source": [
        "b=3.14116\n",
        "print(f\"b = {b}\")       # pas d'instruction de formatage\n",
        "print(f\"b = {b:.3f}\")   # 3 chiffres après la virgule\n",
        "print(f\"b = {b:6.2f}\")  # au moins 6 caractères, dont deux chiffres après la virgule, si besoin des blancs\n",
        "print(f\"b = {b:06.2f}\") # au moins 6 caractères, dont deux chiffres après la virgule, si besoin des zéros\n"
      ],
      "metadata": {
        "id": "gD_FYxHyyl1s",
        "outputId": "c30ca748-de7e-4f4b-c0ed-c75c4e63f40c"
      },
      "execution_count": null,
      "outputs": [
        {
          "name": "stdout",
          "output_type": "stream",
          "text": "b = 3.14116\nb = 3.141\nb =   3.14\nb = 003.14\n"
        }
      ]
    },
    {
      "cell_type": "markdown",
      "source": [
        "## Affichage de la date"
      ],
      "metadata": {
        "id": "lUbKwxlkyl1t"
      }
    },
    {
      "cell_type": "code",
      "source": [
        "!sudo dpkg-reconfigure locales"
      ],
      "metadata": {
        "id": "f6XfN3-yyp_h"
      },
      "execution_count": null,
      "outputs": []
    },
    {
      "cell_type": "code",
      "source": [
        "import os\n",
        "os.kill(os.getpid(), 9)"
      ],
      "metadata": {
        "id": "5ZXfalMxyxxl"
      },
      "execution_count": null,
      "outputs": []
    },
    {
      "cell_type": "code",
      "source": [
        "import locale\n",
        "locale.setlocale(locale.LC_TIME, 'fr_FR.UTF-8')\n",
        "from datetime import datetime\n",
        "date = datetime.now()\n",
        "print(date.strftime('%m-%d-%y'))\n",
        "date_formatee=date.strftime(\"%A %d %B %Y\")\n",
        "print(f\"Voici la date du jour : {date_formatee}\")\n",
        "jour=date.strftime(\"%A\")\n",
        "njour=date.strftime(\"%d\")\n",
        "mois=date.strftime(\"%B\")\n",
        "annee=date.strftime(\"%Y\")\n",
        "print(f\"Nous sommes le {jour} {njour} {mois} de l'année {annee}.\")\n",
        "minutes=date.strftime(\"%M\")\n",
        "heures=date.strftime(\"%H\")\n",
        "secondes=date.strftime(\"%S\")\n",
        "heure_formatee=date.strftime(\"%H : %M : %S\")\n",
        "print(f\"Voici l'heure actuelle : {heure_formatee}\")\n",
        "print(f\"À ma montre, il est {heures} h {minutes} : {secondes}.\")"
      ],
      "metadata": {
        "id": "vSNpuzVTyl1t",
        "outputId": "8b9fe659-7908-47bb-98b0-2a11d7a79db0"
      },
      "execution_count": null,
      "outputs": [
        {
          "name": "stdout",
          "output_type": "stream",
          "text": "05-01-19\nVoici la date du jour : mercredi 01 mai 2019\nNous sommes le mercredi 01 mai de l'année 2019.\nVoici l'heure actuelle : 14 : 57 : 34\nÀ ma montre, il est 14 h 57 : 34.\n"
        }
      ]
    },
    {
      "cell_type": "code",
      "source": [
        ""
      ],
      "metadata": {
        "id": "JphN_2Lwyl1u"
      },
      "execution_count": null,
      "outputs": []
    }
  ]
}
